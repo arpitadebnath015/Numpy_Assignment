{
 "cells": [
  {
   "cell_type": "markdown",
   "metadata": {},
   "source": [
    "#  1. Create a NumPy array 'arr' of integers from 0 to 5 and print its data type.\n"
   ]
  },
  {
   "cell_type": "code",
   "execution_count": 1,
   "metadata": {},
   "outputs": [
    {
     "name": "stdout",
     "output_type": "stream",
     "text": [
      "int32\n"
     ]
    }
   ],
   "source": [
    "import numpy as np\n",
    "arr = np.array([0,1,2,3,4,5])\n",
    "print(arr.dtype)"
   ]
  },
  {
   "cell_type": "markdown",
   "metadata": {},
   "source": [
    "# 2. Given a NumPy array 'arr', check if its data type is float64.\n",
    "#   arr = np.array([1.5, 2.6, 3.7])"
   ]
  },
  {
   "cell_type": "code",
   "execution_count": 2,
   "metadata": {},
   "outputs": [
    {
     "name": "stdout",
     "output_type": "stream",
     "text": [
      "True\n"
     ]
    }
   ],
   "source": [
    "#2\n",
    "arr= np.array([1.5,2.6,3.7])\n",
    "if (arr.dtype==\"float64\"):\n",
    "    print(\"True\")\n",
    "else:\n",
    "    print(\"False\")"
   ]
  },
  {
   "cell_type": "markdown",
   "metadata": {},
   "source": [
    "# 3. Create a NumPy array 'arr' with a data type of complex128 containing three complex numbers."
   ]
  },
  {
   "cell_type": "code",
   "execution_count": 3,
   "metadata": {},
   "outputs": [
    {
     "data": {
      "text/plain": [
       "array([[3.+0.j, 5.+0.j, 5.+0.j]])"
      ]
     },
     "execution_count": 3,
     "metadata": {},
     "output_type": "execute_result"
    }
   ],
   "source": [
    "#3\n",
    "import random as rnd\n",
    "arr = np.random.randint(1,10,(1,3))\n",
    "arr =np.array(arr,dtype='complex128')\n",
    "arr"
   ]
  },
  {
   "cell_type": "markdown",
   "metadata": {},
   "source": [
    "# 4. Convert an existing NumPy array 'arr' of integers to float32 data type."
   ]
  },
  {
   "cell_type": "code",
   "execution_count": 4,
   "metadata": {},
   "outputs": [
    {
     "data": {
      "text/plain": [
       "array([1., 2., 3., 4.], dtype=float32)"
      ]
     },
     "execution_count": 4,
     "metadata": {},
     "output_type": "execute_result"
    }
   ],
   "source": [
    "#4\n",
    "arr = np.array([1,2,3,4])\n",
    "new_arr = arr.astype('float32')\n",
    "new_arr"
   ]
  },
  {
   "cell_type": "markdown",
   "metadata": {},
   "source": [
    "# 5. Given a NumPy array 'arr' with float64 data type, convert it to float32 to reduce decimal precision."
   ]
  },
  {
   "cell_type": "code",
   "execution_count": 3,
   "metadata": {},
   "outputs": [
    {
     "name": "stdout",
     "output_type": "stream",
     "text": [
      "float64\n"
     ]
    },
    {
     "data": {
      "text/plain": [
       "array([1.2345679, 2.2345679, 5.234568 ], dtype=float32)"
      ]
     },
     "execution_count": 3,
     "metadata": {},
     "output_type": "execute_result"
    }
   ],
   "source": [
    "#5\n",
    "arr = np.array([1.23456789234, 2.23456789234, 5.23456789234])\n",
    "print(arr.dtype)\n",
    "new_arr = arr.astype('float32')\n",
    "new_arr"
   ]
  },
  {
   "cell_type": "markdown",
   "metadata": {},
   "source": [
    "# 6. Write a function array_attributes that takes a NumPy array as input and returns its shape, size, and data type\n"
   ]
  },
  {
   "cell_type": "code",
   "execution_count": 7,
   "metadata": {},
   "outputs": [
    {
     "name": "stdout",
     "output_type": "stream",
     "text": [
      "Shape of array is (4, 3)\n",
      "Size of array is 12\n",
      "Data Type of array is int32\n"
     ]
    }
   ],
   "source": [
    "#6\n",
    "def array_attributes(arr):\n",
    "    shape=arr.shape\n",
    "    size=arr.size\n",
    "    dataType= arr.dtype\n",
    "    return (shape,size,dataType)\n",
    "\n",
    "arr = np.random.randint(1,10,(4,3))\n",
    "[shape,size,data_type]= array_attributes(arr)\n",
    "print(\"Shape of array is \"+str(shape))\n",
    "print(\"Size of array is \"+str(size))\n",
    "print(\"Data Type of array is \"+str(data_type))"
   ]
  },
  {
   "cell_type": "markdown",
   "metadata": {},
   "source": [
    "# 7. Create a function array_dimension that takes a NumPy array as input and returns its dimensionality."
   ]
  },
  {
   "cell_type": "code",
   "execution_count": 8,
   "metadata": {},
   "outputs": [
    {
     "name": "stdout",
     "output_type": "stream",
     "text": [
      "Dimension of array is 2\n"
     ]
    }
   ],
   "source": [
    "#7\n",
    "def array_dimension(arr):\n",
    "    dimension=arr.ndim\n",
    "    return dimension\n",
    "\n",
    "arr = np.random.randint(1,10,(4,3))\n",
    "dimension= array_dimension(arr)\n",
    "print(\"Dimension of array is \"+str(dimension))"
   ]
  },
  {
   "cell_type": "markdown",
   "metadata": {},
   "source": [
    "# 8. Design a function item_size_info that takes a NumPy array as input and returns the item size and the total size in bytes.\n"
   ]
  },
  {
   "cell_type": "code",
   "execution_count": 9,
   "metadata": {},
   "outputs": [
    {
     "name": "stdout",
     "output_type": "stream",
     "text": [
      "Size of array is 12\n",
      "Bytes of array is 48\n"
     ]
    }
   ],
   "source": [
    "# 8\n",
    "def item_size_info(arr):\n",
    "    size=arr.size\n",
    "    Bytesize=arr.nbytes\n",
    "    return (size,Bytesize)\n",
    "\n",
    "arr = np.random.randint(1,10,(4,3))\n",
    "[size,ByteSize]= item_size_info(arr)\n",
    "print(\"Size of array is \"+str(size))\n",
    "print(\"Bytes of array is \"+str(ByteSize))"
   ]
  },
  {
   "cell_type": "markdown",
   "metadata": {},
   "source": [
    "# 9. Create a function array_strides that takes a NumPy array as input and returns the strides of the array."
   ]
  },
  {
   "cell_type": "code",
   "execution_count": 10,
   "metadata": {},
   "outputs": [
    {
     "name": "stdout",
     "output_type": "stream",
     "text": [
      "Strides of array is (12, 48)\n"
     ]
    }
   ],
   "source": [
    "# 9\n",
    "def array_strides(arr):\n",
    "    strides=arr.strides\n",
    "    return strides\n",
    "\n",
    "arr = np.random.randint(1,10,(4,3))\n",
    "strides= item_size_info(arr)\n",
    "print(\"Strides of array is \"+str(strides))"
   ]
  },
  {
   "cell_type": "markdown",
   "metadata": {},
   "source": [
    "# 10. Design a function shape_stride_relationship that takes a NumPy array as input and returns the shape and strides of the array."
   ]
  },
  {
   "cell_type": "code",
   "execution_count": 11,
   "metadata": {},
   "outputs": [
    {
     "name": "stdout",
     "output_type": "stream",
     "text": [
      "Shape of array is (4, 3)\n",
      "Strides of array is (12, 4)\n"
     ]
    }
   ],
   "source": [
    "# 10\n",
    "def shape_stride_relationship(arr):\n",
    "    shape=arr.shape\n",
    "    strides=arr.strides\n",
    "    return (shape,strides)\n",
    "\n",
    "arr = np.random.randint(1,10,(4,3))\n",
    "[shape,strides]= shape_stride_relationship(arr)\n",
    "print(\"Shape of array is \"+str(shape))\n",
    "print(\"Strides of array is \"+str(strides))"
   ]
  },
  {
   "cell_type": "markdown",
   "metadata": {},
   "source": [
    "# 11. Create a function `create_zeros_array` that takes an integer `n` as input and returns a NumPy array of zeros with `n` elements."
   ]
  },
  {
   "cell_type": "code",
   "execution_count": 13,
   "metadata": {},
   "outputs": [
    {
     "name": "stdout",
     "output_type": "stream",
     "text": [
      "[[0. 0. 0. 0. 0.]]\n"
     ]
    }
   ],
   "source": [
    "# 11\n",
    "\n",
    "def create_zeros_array(n):\n",
    "    arr = np.zeros((1,n))\n",
    "    return arr\n",
    "n = int(input(\"Enter a number: \"))\n",
    "arr= create_zeros_array(n)\n",
    "print(arr)"
   ]
  },
  {
   "cell_type": "markdown",
   "metadata": {},
   "source": [
    "# 12. Write a function `create_ones_matrix` that takes integers `rows` and `cols` as inputs and generates a 2D NumPy array filled with ones of size `rows x cols`."
   ]
  },
  {
   "cell_type": "code",
   "execution_count": 4,
   "metadata": {},
   "outputs": [
    {
     "name": "stdout",
     "output_type": "stream",
     "text": [
      "[[1. 1. 1. 1. 1.]\n",
      " [1. 1. 1. 1. 1.]\n",
      " [1. 1. 1. 1. 1.]\n",
      " [1. 1. 1. 1. 1.]]\n"
     ]
    }
   ],
   "source": [
    "# 12\n",
    "\n",
    "def create_ones_matrix(rows,cols):\n",
    "    arr = np.ones((rows,cols))\n",
    "    return arr\n",
    "arr= create_ones_matrix(4,5)\n",
    "print(arr)"
   ]
  },
  {
   "cell_type": "markdown",
   "metadata": {},
   "source": [
    "# 13. Write a function `generate_range_array` that takes three integers start, stop, and step as arguments and creates a NumPy array with a range starting from `start`, ending at stop (exclusive), and with the specified `step`."
   ]
  },
  {
   "cell_type": "code",
   "execution_count": 21,
   "metadata": {},
   "outputs": [
    {
     "name": "stdout",
     "output_type": "stream",
     "text": [
      "[1 3 5 7 9]\n"
     ]
    }
   ],
   "source": [
    "# 13\n",
    "\n",
    "def generate_range_array(start,stop,step):\n",
    "    arr = np.arange(start,stop,step)\n",
    "    return arr\n",
    "arr= generate_range_array(1,11,2)\n",
    "print(arr)"
   ]
  },
  {
   "cell_type": "markdown",
   "metadata": {},
   "source": [
    "# 14. Design a function `generate_linear_space` that takes two floats `start`, `stop`, and an integer `num` as arguments and generates a NumPy array with num equally spaced values between `start` and `stop` (inclusive)."
   ]
  },
  {
   "cell_type": "code",
   "execution_count": 26,
   "metadata": {},
   "outputs": [
    {
     "name": "stdout",
     "output_type": "stream",
     "text": [
      "[ 1.5  3.   4.5  6.   7.5  9.  10.5]\n"
     ]
    }
   ],
   "source": [
    "# 14\n",
    "\n",
    "def generate_linear_space(start,stop,num):\n",
    "    arr = np.linspace(start,stop,num)\n",
    "    return arr\n",
    "arr= generate_linear_space(1.5, 10.5, 7)\n",
    "print(arr)"
   ]
  },
  {
   "cell_type": "markdown",
   "metadata": {},
   "source": [
    "# 15. Create a function `create_identity_matrix` that takes an integer `n` as input and generates a square identity matrix of size `n x n` using `numpy.eye`."
   ]
  },
  {
   "cell_type": "code",
   "execution_count": 27,
   "metadata": {},
   "outputs": [
    {
     "name": "stdout",
     "output_type": "stream",
     "text": [
      "[[1. 0. 0. 0. 0.]\n",
      " [0. 1. 0. 0. 0.]\n",
      " [0. 0. 1. 0. 0.]\n",
      " [0. 0. 0. 1. 0.]\n",
      " [0. 0. 0. 0. 1.]]\n"
     ]
    }
   ],
   "source": [
    "# 15\n",
    "\n",
    "def create_identity_matrix(n):\n",
    "    arr = np.eye(n)\n",
    "    return arr\n",
    "arr= create_identity_matrix(5)\n",
    "print(arr)"
   ]
  },
  {
   "cell_type": "markdown",
   "metadata": {},
   "source": [
    "# 16. Write a function that takes a Python list and converts it into a NumPy array."
   ]
  },
  {
   "cell_type": "code",
   "execution_count": 30,
   "metadata": {},
   "outputs": [
    {
     "name": "stdout",
     "output_type": "stream",
     "text": [
      "Python List is : \n",
      "[1, 2, 3, 4, 5, 6, 7]\n",
      "===============================================\n",
      "Numpy Array is : \n",
      "[1 2 3 4 5 6 7]\n"
     ]
    }
   ],
   "source": [
    "#16\n",
    "\n",
    "def Convert_Python_List_To_Numpy_Array(pythonList):\n",
    "    arr = np.array(pythonList)\n",
    "    return arr\n",
    "\n",
    "pythonList = [1,2,3,4,5,6,7]\n",
    "arr = Convert_Python_List_To_Numpy_Array(pythonList)\n",
    "\n",
    "print(\"Python List is : \")\n",
    "print(pythonList)\n",
    "print(\"===============================================\")\n",
    "print(\"Numpy Array is : \")\n",
    "print(arr)"
   ]
  },
  {
   "cell_type": "markdown",
   "metadata": {},
   "source": [
    "# 17. Create a NumPy array and demonstrate the use of `numpy.view` to create a new array object with the same data."
   ]
  },
  {
   "cell_type": "code",
   "execution_count": 35,
   "metadata": {},
   "outputs": [
    {
     "name": "stdout",
     "output_type": "stream",
     "text": [
      "[100   2   3   4   5]\n",
      "[100   2   3   4   5]\n",
      "[1 2 3 4 5]\n"
     ]
    }
   ],
   "source": [
    "# 17\n",
    "\n",
    "arr = np.array([1,2,3,4,5])\n",
    "x= arr.view() # shallow copy\n",
    "y=arr.copy()  # deep copy\n",
    "\n",
    "arr[0]= 100\n",
    "print(arr)\n",
    "print(x)\n",
    "print(y)"
   ]
  },
  {
   "cell_type": "markdown",
   "metadata": {},
   "source": [
    "# 18. Write a function that takes two NumPy arrays and concatenates them along a specified axis."
   ]
  },
  {
   "cell_type": "code",
   "execution_count": 47,
   "metadata": {},
   "outputs": [
    {
     "data": {
      "text/plain": [
       "array([[ 1,  2,  3,  4,  6,  8,  9,  1],\n",
       "       [ 4,  7,  1,  8, 10, 12,  6,  8]])"
      ]
     },
     "execution_count": 47,
     "metadata": {},
     "output_type": "execute_result"
    }
   ],
   "source": [
    "# 18\n",
    "def  concatenation_array(arr1,arr2):\n",
    "    concatenation_array =np.concatenate((arr1,arr2),axis=1)  # concatenation to the right\n",
    "    return concatenation_array\n",
    "arr1 = np.array([[1,2,3,4],[4,7,1,8]])\n",
    "arr2= np.array([[6,8,9,1],[10,12,6,8]])\n",
    "\n",
    "concatenation_array = concatenation_array(arr1,arr2)\n",
    "\n",
    "concatenation_array\n",
    "\n"
   ]
  },
  {
   "cell_type": "markdown",
   "metadata": {},
   "source": [
    "# 19. Create two NumPy arrays with different shapes and concatenate them horizontally using `numpy.concatenate`."
   ]
  },
  {
   "cell_type": "code",
   "execution_count": 51,
   "metadata": {},
   "outputs": [
    {
     "data": {
      "text/plain": [
       "array([[ 1,  2,  3,  4],\n",
       "       [ 4,  7,  1,  8],\n",
       "       [ 8,  3,  0, 10],\n",
       "       [ 6,  8,  9,  1],\n",
       "       [10, 12,  6,  8]])"
      ]
     },
     "execution_count": 51,
     "metadata": {},
     "output_type": "execute_result"
    }
   ],
   "source": [
    "# 19 \n",
    "arr1 = np.array([[1,2,3,4],[4,7,1,8],[8,3,0,10]])\n",
    "arr2= np.array([[6,8,9,1],[10,12,6,8]])\n",
    "\n",
    "concatenation_array =np.concatenate((arr1,arr2),axis=0)  # concatenation to the bottom ...horizontally\n",
    "concatenation_array"
   ]
  },
  {
   "cell_type": "markdown",
   "metadata": {},
   "source": [
    "# 20. Write a function that vertically stacks multiple NumPy arrays given as a list."
   ]
  },
  {
   "cell_type": "code",
   "execution_count": 54,
   "metadata": {},
   "outputs": [
    {
     "data": {
      "text/plain": [
       "array([[ 1,  2,  3,  4],\n",
       "       [ 4,  7,  1,  8],\n",
       "       [ 8,  3,  0, 10],\n",
       "       [ 6,  8,  9,  1],\n",
       "       [10, 12,  6,  8]])"
      ]
     },
     "execution_count": 54,
     "metadata": {},
     "output_type": "execute_result"
    }
   ],
   "source": [
    "# 20\n",
    "def vertical_stack_arrays(arr1,arr2):\n",
    "    vertical_stack= np.vstack((arr1,arr2))\n",
    "    return vertical_stack\n",
    "\n",
    "arr1 = np.array([[1,2,3,4],[4,7,1,8],[8,3,0,10]])\n",
    "arr2= np.array([[6,8,9,1],[10,12,6,8]])\n",
    "vertical_stack = vertical_stack_arrays(arr1,arr2)\n",
    "vertical_stack"
   ]
  },
  {
   "cell_type": "markdown",
   "metadata": {},
   "source": [
    "# 21. Write a Python function using NumPy to create an array of integers within a specified range (inclusive) with a given step size."
   ]
  },
  {
   "cell_type": "code",
   "execution_count": null,
   "metadata": {},
   "outputs": [],
   "source": [
    "#21\n",
    "def range_array_inclusive_given_stepSize(START, STOP, STEP):\n",
    "    arr = np.arange(START, STOP+STEP, STEP)\n",
    "    print(arr)\n",
    "\n",
    "# calling the fumction\n",
    "START = int(input(\"Enter start value: \"))\n",
    "STOP =  int(input(\"Enter stop value: \"))\n",
    "STEP = int(input(\"Enter step value: \"))\n",
    "range_array_inclusive_given_stepSize(START,STOP,STEP)"
   ]
  },
  {
   "cell_type": "markdown",
   "metadata": {},
   "source": [
    "# 22. Write a Python function using NumPy to generate an array of 10 equally spaced values between 0 and 1 (inclusive)."
   ]
  },
  {
   "cell_type": "code",
   "execution_count": 56,
   "metadata": {},
   "outputs": [
    {
     "name": "stdout",
     "output_type": "stream",
     "text": [
      "[0.         0.11111111 0.22222222 0.33333333 0.44444444 0.55555556\n",
      " 0.66666667 0.77777778 0.88888889 1.        ]\n"
     ]
    }
   ],
   "source": [
    "#22\n",
    "def generate_equal_spaced_array_inclusive():\n",
    "    arr = np.linspace(0,1,10)\n",
    "    print(arr)\n",
    "\n",
    "# calling the fumction\n",
    "generate_equal_spaced_array_inclusive()"
   ]
  },
  {
   "cell_type": "markdown",
   "metadata": {},
   "source": [
    "# 23. Write a Python function using NumPy to create an array of 5 logarithmically spaced values between 1 and 1000 (inclusive)."
   ]
  },
  {
   "cell_type": "code",
   "execution_count": 87,
   "metadata": {},
   "outputs": [
    {
     "name": "stdout",
     "output_type": "stream",
     "text": [
      "[1.00000000e+001 5.62341325e+250             inf             inf\n",
      "             inf]\n"
     ]
    }
   ],
   "source": [
    "#23\n",
    "def generate_equal_logarithmically_spaced_array_inclusive():\n",
    "    arr = np.logspace(1,1000,5,endpoint=True)\n",
    "    print(arr)\n",
    "\n",
    "# calling the fumction\n",
    "generate_equal_logarithmically_spaced_array_inclusive()"
   ]
  },
  {
   "cell_type": "markdown",
   "metadata": {},
   "source": [
    "# 24. Create a Pandas DataFrame using a NumPy array that contains 5 rows and 3 columns, where the values are random integers between 1 and 100."
   ]
  },
  {
   "cell_type": "code",
   "execution_count": null,
   "metadata": {},
   "outputs": [],
   "source": [
    "#24\n",
    "import numpy as np\n",
    "import pandas as pd\n",
    "arr = np.random.randint(1,100,(5,3))\n",
    "print(arr)\n",
    "\n",
    "df = pd.DataFrame(arr)\n",
    "print(df)"
   ]
  },
  {
   "cell_type": "markdown",
   "metadata": {},
   "source": [
    "# 25. Write a function that takes a Pandas DataFrame and replaces all negative values in a specific column with zeros. Use NumPy operations within the Pandas DataFrame."
   ]
  },
  {
   "cell_type": "code",
   "execution_count": null,
   "metadata": {},
   "outputs": [],
   "source": [
    "# 25\n",
    "\n",
    "import numpy as np\n",
    "import pandas as pd\n",
    "arr = np.random.randint(-10,10,(5,3))\n",
    "\n",
    "df = pd.DataFrame(arr)\n",
    "print(df)\n",
    "df[df<0]=0  # if df data is negative it will be replaced by 0 through out the data frame\n",
    "print(df)"
   ]
  },
  {
   "cell_type": "markdown",
   "metadata": {},
   "source": [
    "# 26. Access the 3rd element from the given NumPy array.\n",
    "# arr = np.array([10, 20, 30, 40, 50])\n"
   ]
  },
  {
   "cell_type": "code",
   "execution_count": 90,
   "metadata": {},
   "outputs": [
    {
     "data": {
      "text/plain": [
       "30"
      ]
     },
     "execution_count": 90,
     "metadata": {},
     "output_type": "execute_result"
    }
   ],
   "source": [
    "#26\n",
    "\n",
    "arr= np.array([10,20,30,40,50])\n",
    "\n",
    "#accessing 3rd element\n",
    "arr[2]"
   ]
  },
  {
   "cell_type": "markdown",
   "metadata": {},
   "source": [
    "# 27. Retrieve the element at index (1, 2) from the 2D NumPy array.\n",
    "# arr_2d = np.array([[1, 2, 3],[4, 5, 6],[7, 8, 9]])"
   ]
  },
  {
   "cell_type": "code",
   "execution_count": 100,
   "metadata": {},
   "outputs": [
    {
     "name": "stdout",
     "output_type": "stream",
     "text": [
      "[[1 2 3]\n",
      " [4 5 6]\n",
      " [7 8 9]]\n"
     ]
    },
    {
     "data": {
      "text/plain": [
       "6"
      ]
     },
     "execution_count": 100,
     "metadata": {},
     "output_type": "execute_result"
    }
   ],
   "source": [
    "#27\n",
    "\n",
    "arr_2d = np.array([[1,2,3],\n",
    "                [4,5,6],\n",
    "                [7,8,9]])\n",
    "\n",
    "print(arr_2d)\n",
    "# retrieve (1,2) index element\n",
    "\n",
    "arr_2d[1,2]\n"
   ]
  },
  {
   "cell_type": "markdown",
   "metadata": {},
   "source": [
    "# 28. Using boolean indexing, extract elements greater than 5 from the given NumPy array.\n",
    "# arr = np.array([3, 8, 2, 10, 5, 7])\n"
   ]
  },
  {
   "cell_type": "code",
   "execution_count": 99,
   "metadata": {},
   "outputs": [
    {
     "data": {
      "text/plain": [
       "array([ 8, 10,  7])"
      ]
     },
     "execution_count": 99,
     "metadata": {},
     "output_type": "execute_result"
    }
   ],
   "source": [
    "# 28\n",
    "arr = np.array([3,8,2,10,5,7])\n",
    "dummy=arr>5\n",
    "dummy\n",
    "arr[dummy]"
   ]
  },
  {
   "cell_type": "markdown",
   "metadata": {},
   "source": [
    "# 29. Perform basic slicing to extract elements from index 2 to 5 (inclusive) from the given NumPy array.\n",
    "# arr = np.array([1, 2, 3, 4, 5, 6, 7, 8, 9])"
   ]
  },
  {
   "cell_type": "code",
   "execution_count": 97,
   "metadata": {},
   "outputs": [
    {
     "data": {
      "text/plain": [
       "array([3, 4, 5, 6])"
      ]
     },
     "execution_count": 97,
     "metadata": {},
     "output_type": "execute_result"
    }
   ],
   "source": [
    "#29\n",
    "arr= np.arange(1,10)\n",
    "arr[2:6]"
   ]
  },
  {
   "cell_type": "markdown",
   "metadata": {},
   "source": [
    "# 30. Slice the 2D NumPy array to extract the sub-array `[[2, 3], [5, 6]]` from the given array\n",
    "# arr_2d = np.array([[1, 2, 3],[4, 5, 6], [7, 8, 9]])"
   ]
  },
  {
   "cell_type": "code",
   "execution_count": 102,
   "metadata": {},
   "outputs": [
    {
     "data": {
      "text/plain": [
       "array([[2, 3],\n",
       "       [5, 6]])"
      ]
     },
     "execution_count": 102,
     "metadata": {},
     "output_type": "execute_result"
    }
   ],
   "source": [
    "# 30\n",
    "\n",
    "arr_2d = np.array([[1,2,3],\n",
    "                [4,5,6],\n",
    "                [7,8,9]])\n",
    "sliced_2d_array = arr_2d[0:2,1:3]\n",
    "sliced_2d_array"
   ]
  },
  {
   "cell_type": "markdown",
   "metadata": {},
   "source": [
    "# 31.Write a NumPy function to extract elements in specific order from a given 2D array based on indices provided in another array."
   ]
  },
  {
   "cell_type": "code",
   "execution_count": 109,
   "metadata": {},
   "outputs": [
    {
     "data": {
      "text/plain": [
       "array([[1],\n",
       "       [5]])"
      ]
     },
     "execution_count": 109,
     "metadata": {},
     "output_type": "execute_result"
    }
   ],
   "source": [
    "# 31\n",
    "arr_2d = np.array([[1,2,3],\n",
    "                [4,5,6],\n",
    "                [7,8,9]])\n",
    "indices = np.array([[0],[1]])\n",
    "arr = arr_2d[indices,indices]\n",
    "arr"
   ]
  },
  {
   "cell_type": "markdown",
   "metadata": {},
   "source": [
    "# 32. Create a NumPy function that filters elements greater than a threshold from a given 1D array using boolean indexing."
   ]
  },
  {
   "cell_type": "code",
   "execution_count": 111,
   "metadata": {},
   "outputs": [
    {
     "name": "stdout",
     "output_type": "stream",
     "text": [
      "[20 43 76 41 90]\n"
     ]
    }
   ],
   "source": [
    "# 32\n",
    "def extract_array_greater_than_threshold_value():\n",
    "    arr = np.array([1,2,3,4,10,20,43,76,41,90,6])\n",
    "    bool_index = arr>10 # here takes 10 as a threshold value\n",
    "    print(arr[bool_index])\n",
    "\n",
    "\n",
    "# function calling\n",
    "extract_array_greater_than_threshold_value()\n"
   ]
  },
  {
   "cell_type": "markdown",
   "metadata": {},
   "source": [
    "# 33. Develop a NumPy function that extracts specific elements from a 3D array using indices provided in three separate arrays for each dimension."
   ]
  },
  {
   "cell_type": "code",
   "execution_count": 112,
   "metadata": {},
   "outputs": [],
   "source": [
    "# 33\n"
   ]
  },
  {
   "cell_type": "markdown",
   "metadata": {},
   "source": [
    "# 34. Write a NumPy function that returns elements from an array where both two conditions are satisfied using boolean indexing."
   ]
  },
  {
   "cell_type": "code",
   "execution_count": 121,
   "metadata": {},
   "outputs": [
    {
     "name": "stdout",
     "output_type": "stream",
     "text": [
      "[ 20  76  90 100]\n"
     ]
    }
   ],
   "source": [
    "# 34\n",
    "\n",
    "def extract_array_by_statisfying_multiple_condition():\n",
    "    arr = np.array([1,2,3,4,10,20,43,76,41,90,6,100,121])\n",
    "    mask1 = arr>10\n",
    "    mask2 = arr%2 ==0\n",
    "\n",
    "    ultimate_mask = np.logical_and(mask1,mask2)\n",
    "    print(arr[ultimate_mask])\n",
    "\n",
    "extract_array_by_statisfying_multiple_condition()"
   ]
  },
  {
   "cell_type": "markdown",
   "metadata": {},
   "source": [
    "# 35. Create a NumPy function that extracts elements from a 2D array using row and column indices provided in separate arrays."
   ]
  },
  {
   "cell_type": "code",
   "execution_count": 127,
   "metadata": {},
   "outputs": [
    {
     "name": "stdout",
     "output_type": "stream",
     "text": [
      "actual array\n",
      "[[95 11 51 28 41]\n",
      " [13 81  8 61 48]\n",
      " [25 20 49 68  9]\n",
      " [62 37 94 49 80]]\n",
      "==========================\n",
      "[[ 8 61]\n",
      " [49 68]]\n"
     ]
    }
   ],
   "source": [
    "#35\n",
    "\n",
    "arr_2d = np.random.randint(1,100,(4,5))\n",
    "\n",
    "row_index = np.array([1,3])\n",
    "col_index = np.array([2,4])\n",
    "print(\"actual array\")\n",
    "print(arr_2d)\n",
    "print(\"==========================\")\n",
    "\n",
    "sliced_array = arr_2d[row_index[0]:row_index[1],col_index[0]:col_index[1]]\n",
    "print(sliced_array)\n"
   ]
  },
  {
   "cell_type": "markdown",
   "metadata": {},
   "source": [
    "# 36. Given an array arr of shape (3, 3), add a scalar value of 5 to each element using NumPy broadcasting."
   ]
  },
  {
   "cell_type": "code",
   "execution_count": 131,
   "metadata": {},
   "outputs": [
    {
     "name": "stdout",
     "output_type": "stream",
     "text": [
      "actual array\n",
      "[[73 89 88]\n",
      " [83 65 51]\n",
      " [77 29 22]]\n",
      "==========================\n",
      "array after addition 5\n",
      "[[78 94 93]\n",
      " [88 70 56]\n",
      " [82 34 27]]\n",
      "==========================\n"
     ]
    }
   ],
   "source": [
    "# 36\n",
    "\n",
    "arr = np.random.randint(1,100,(3,3))\n",
    "print(\"actual array\")\n",
    "print(arr)\n",
    "print(\"==========================\")\n",
    "arr = arr+5\n",
    "print(\"array after addition 5\")\n",
    "print(arr)\n",
    "print(\"==========================\")\n"
   ]
  },
  {
   "cell_type": "code",
   "execution_count": 156,
   "metadata": {},
   "outputs": [
    {
     "name": "stdout",
     "output_type": "stream",
     "text": [
      "[[40 70 90]]\n",
      "================\n",
      "[[72 12 56  4]\n",
      " [80 54 38 12]\n",
      " [36 93 42 37]]\n",
      "================\n",
      "ValueError:operands could not be broadcast together with shapes (1,3) (3,4) \n"
     ]
    }
   ],
   "source": [
    "# 37\n",
    "arr1 = np.random.randint(1,100,(1,3))\n",
    "print(arr1)\n",
    "print(\"================\")\n",
    "arr2 = np.random.randint(1,100,(3,4))\n",
    "print(arr2)\n",
    "print(\"================\")\n",
    "\n",
    "try:\n",
    "    result =arr1+arr2\n",
    "    print(result)\n",
    "except ValueError as e:\n",
    "    print(f\"ValueError:{e}\")\n",
    "\n",
    "# explanation : in arr1 row count 1 and in arr2 row count 3. this is okay as per broadcasting rule\n",
    "# but in arr1 col count 3 and in arr2 col count 4. this col count should be same here as per broadcasting rule"
   ]
  },
  {
   "cell_type": "markdown",
   "metadata": {},
   "source": [
    "# 37. Consider two arrays arr1 of shape (1, 3) and arr2 of shape (3, 4). Multiply each row of arr2 by the corresponding element in arr1 using NumPy broadcasting."
   ]
  },
  {
   "cell_type": "markdown",
   "metadata": {},
   "source": [
    "# 38. Given a 1D array arr1 of shape (1, 4) and a 2D array arr2 of shape (4, 3), add arr1 to each row of arr2 using NumPy broadcasting."
   ]
  },
  {
   "cell_type": "code",
   "execution_count": 155,
   "metadata": {},
   "outputs": [
    {
     "name": "stdout",
     "output_type": "stream",
     "text": [
      "[[21 31  3 23]]\n",
      "================\n",
      "[[34 63 29]\n",
      " [13 16 88]\n",
      " [64 55 33]\n",
      " [86 45 51]]\n",
      "================\n",
      "ValueError:operands could not be broadcast together with shapes (1,4) (4,3) \n"
     ]
    }
   ],
   "source": [
    "# 38\n",
    "arr1 = np.random.randint(1,100,(1,4))\n",
    "print(arr1)\n",
    "print(\"================\")\n",
    "arr2 = np.random.randint(1,100,(4,3))\n",
    "print(arr2)\n",
    "print(\"================\")\n",
    "\n",
    "try:\n",
    "    result =arr1+arr2\n",
    "    print(result)\n",
    "except ValueError as e:\n",
    "    print(f\"ValueError:{e}\")\n",
    "\n",
    "# explanation : same explanation as above"
   ]
  },
  {
   "cell_type": "markdown",
   "metadata": {},
   "source": [
    "# 39. Consider two arrays arr1 of shape (3, 1) and arr2 of shape (1, 3). Add these arrays using NumPy broadcasting."
   ]
  },
  {
   "cell_type": "code",
   "execution_count": 154,
   "metadata": {},
   "outputs": [
    {
     "name": "stdout",
     "output_type": "stream",
     "text": [
      "[[31]\n",
      " [ 4]\n",
      " [68]]\n",
      "================\n",
      "[[10  4 28]]\n",
      "================\n",
      "[[41 35 59]\n",
      " [14  8 32]\n",
      " [78 72 96]]\n"
     ]
    }
   ],
   "source": [
    "#39\n",
    "arr1 = np.random.randint(1,100,(3,1))\n",
    "print(arr1)\n",
    "print(\"================\")\n",
    "arr2 = np.random.randint(1,100,(1,3))\n",
    "print(arr2)\n",
    "print(\"================\")\n",
    "\n",
    "try:\n",
    "    result =arr1+arr2\n",
    "    print(result)\n",
    "except ValueError as e:\n",
    "    print(f\"ValueError:{e}\")"
   ]
  },
  {
   "cell_type": "markdown",
   "metadata": {},
   "source": [
    "# 40. Given arrays arr1 of shape (2, 3) and arr2 of shape (2, 2), perform multiplication using NumPy broadcasting. Handle the shape incompatibility."
   ]
  },
  {
   "cell_type": "code",
   "execution_count": 153,
   "metadata": {},
   "outputs": [
    {
     "name": "stdout",
     "output_type": "stream",
     "text": [
      "[[47 83]\n",
      " [79 14]]\n",
      "================\n",
      "[[14 80  2]\n",
      " [48 22 64]]\n",
      "================\n",
      "ValueError:operands could not be broadcast together with shapes (2,2) (2,3) \n"
     ]
    }
   ],
   "source": [
    "#40\n",
    "\n",
    "arr1 = np.random.randint(1,100,(2,2))\n",
    "print(arr1)\n",
    "print(\"================\")\n",
    "arr2 = np.random.randint(1,100,(2,3))\n",
    "print(arr2)\n",
    "print(\"================\")\n",
    "\n",
    "try:\n",
    "    result =arr1+arr2\n",
    "    print(result)\n",
    "except ValueError as e:\n",
    "    print(f\"ValueError:{e}\")"
   ]
  },
  {
   "cell_type": "markdown",
   "metadata": {},
   "source": [
    "# 41. Calculate column wise mean for the given array:\n",
    "# arr = np.array([[1, 2, 3], [4, 5, 6]])\n"
   ]
  },
  {
   "cell_type": "code",
   "execution_count": 159,
   "metadata": {},
   "outputs": [
    {
     "data": {
      "text/plain": [
       "array([2.5, 3.5, 4.5])"
      ]
     },
     "execution_count": 159,
     "metadata": {},
     "output_type": "execute_result"
    }
   ],
   "source": [
    "# 41\n",
    "\n",
    "arr = np.array([[1,2,3],[4,5,6]])\n",
    "column_wise_mean = arr.mean(axis=0)\n",
    "column_wise_mean"
   ]
  },
  {
   "cell_type": "markdown",
   "metadata": {},
   "source": [
    "# 42. Find maximum value in each row of the given array:\n",
    "# arr = np.array([[1, 2, 3], [4, 5, 6]])\n"
   ]
  },
  {
   "cell_type": "code",
   "execution_count": 160,
   "metadata": {},
   "outputs": [
    {
     "data": {
      "text/plain": [
       "array([3, 6])"
      ]
     },
     "execution_count": 160,
     "metadata": {},
     "output_type": "execute_result"
    }
   ],
   "source": [
    "# 42\n",
    "\n",
    "arr = np.array([[1,2,3],[4,5,6]])\n",
    "max_each_row = arr.max(axis=1)\n",
    "max_each_row"
   ]
  },
  {
   "cell_type": "markdown",
   "metadata": {},
   "source": [
    "# 43. For the given array, find indices of maximum value in each column\n",
    "# arr = np.array([[1, 2, 3], [4, 5, 6]])\n"
   ]
  },
  {
   "cell_type": "code",
   "execution_count": 161,
   "metadata": {},
   "outputs": [
    {
     "data": {
      "text/plain": [
       "array([1, 1, 1], dtype=int32)"
      ]
     },
     "execution_count": 161,
     "metadata": {},
     "output_type": "execute_result"
    }
   ],
   "source": [
    "# 43\n",
    "arr = np.array([[1,2,3],[4,5,6]])\n",
    "max_indices_at_each_col = arr.argmax(axis=0)\n",
    "max_indices_at_each_col"
   ]
  },
  {
   "cell_type": "markdown",
   "metadata": {},
   "source": [
    "# 44. For the given array, apply custom function to calculate moving sum along rows.\n",
    "# arr = np.array([[1, 2, 3], [4, 5, 6]])\n"
   ]
  },
  {
   "cell_type": "code",
   "execution_count": 191,
   "metadata": {},
   "outputs": [
    {
     "data": {
      "text/plain": [
       "array([ 6, 15])"
      ]
     },
     "execution_count": 191,
     "metadata": {},
     "output_type": "execute_result"
    }
   ],
   "source": [
    "# 44\n",
    "\n",
    "arr = np.array([[1,2,3],[4,5,6]])\n",
    "moving_sum_along_rows = arr.sum(axis=1)\n",
    "moving_sum_along_rows"
   ]
  },
  {
   "cell_type": "markdown",
   "metadata": {},
   "source": [
    "# 45. In the given array, check if all elements in each column are even.\n",
    "# arr = np.array([[2,4,6],[3,5,7]])"
   ]
  },
  {
   "cell_type": "code",
   "execution_count": 190,
   "metadata": {},
   "outputs": [
    {
     "data": {
      "text/plain": [
       "array([False, False, False])"
      ]
     },
     "execution_count": 190,
     "metadata": {},
     "output_type": "execute_result"
    }
   ],
   "source": [
    "#45\n",
    "arr = np.array([[2,4,6],[3,5,7]])\n",
    "\n",
    "col_wise_even_check = np.all(arr%2==0,axis=0)\n",
    "col_wise_even_check"
   ]
  },
  {
   "cell_type": "markdown",
   "metadata": {},
   "source": [
    "# 46. Given a NumPy array arr, reshape it into a matrix of dimensions `m` rows and `n` columns. Return the reshaped matrix.\n",
    "# original_array = np.array([1, 2, 3, 4, 5, 6])\n"
   ]
  },
  {
   "cell_type": "code",
   "execution_count": 192,
   "metadata": {},
   "outputs": [
    {
     "data": {
      "text/plain": [
       "array([[1, 2, 3],\n",
       "       [4, 5, 6]])"
      ]
     },
     "execution_count": 192,
     "metadata": {},
     "output_type": "execute_result"
    }
   ],
   "source": [
    "# 46\n",
    "\n",
    "original_array = np.array([1,2,3,4,5,6])\n",
    "reshaped_array = original_array.reshape(2,3)\n",
    "reshaped_array"
   ]
  },
  {
   "cell_type": "markdown",
   "metadata": {},
   "source": [
    "# 47. Create a function that takes a matrix as input and returns the flattened array.\n",
    "# input_matrix = np.array([[1, 2, 3], [4, 5, 6]])"
   ]
  },
  {
   "cell_type": "code",
   "execution_count": 197,
   "metadata": {},
   "outputs": [
    {
     "data": {
      "text/plain": [
       "array([1, 2, 3, 4, 5, 6])"
      ]
     },
     "execution_count": 197,
     "metadata": {},
     "output_type": "execute_result"
    }
   ],
   "source": [
    "# 47\n",
    "def flatten_matrix(arr):\n",
    "    return arr.flatten()  # we can use ravel() as well\n",
    "\n",
    "\n",
    "input_matrix= np.array([[1,2,3],[4,5,6]])\n",
    "flatten_mat =flatten_matrix(input_matrix)\n",
    "flatten_mat"
   ]
  },
  {
   "cell_type": "markdown",
   "metadata": {},
   "source": [
    "# 48. Write a function that concatenates two given arrays along a specified axis.\n",
    "# array1 = np.array([[1, 2], [3, 4]]) \n",
    "# array2 = np.array([[5, 6], [7, 8]])\n"
   ]
  },
  {
   "cell_type": "code",
   "execution_count": 200,
   "metadata": {},
   "outputs": [
    {
     "data": {
      "text/plain": [
       "array([[1, 2],\n",
       "       [3, 4],\n",
       "       [5, 6],\n",
       "       [7, 8]])"
      ]
     },
     "execution_count": 200,
     "metadata": {},
     "output_type": "execute_result"
    }
   ],
   "source": [
    "# 48\n",
    "def concat(arr1,arr2):\n",
    "    return np.concatenate((arr1,arr2),axis=0)\n",
    "\n",
    "arr1 = np.array([[1,2],[3,4]])\n",
    "arr2 = np.array([[5,6],[7,8]])\n",
    "\n",
    "concat_arrays = concat(arr1,arr2)\n",
    "concat_arrays"
   ]
  },
  {
   "cell_type": "markdown",
   "metadata": {},
   "source": [
    "# 49. Create a function that splits an array into multiple sub-arrays along a specified axis.\n",
    "# original_array = np.array([[1, 2, 3], [4, 5, 6], [7, 8, 9]])"
   ]
  },
  {
   "cell_type": "code",
   "execution_count": 203,
   "metadata": {},
   "outputs": [
    {
     "data": {
      "text/plain": [
       "[array([[1],\n",
       "        [4],\n",
       "        [7]]),\n",
       " array([[2, 3],\n",
       "        [5, 6],\n",
       "        [8, 9]])]"
      ]
     },
     "execution_count": 203,
     "metadata": {},
     "output_type": "execute_result"
    }
   ],
   "source": [
    "# 49\n",
    "def split_arrays(original_array):\n",
    "    return np.split(original_array,[1],axis=1)\n",
    "    \n",
    "original_array = np.array([[1,2,3],\n",
    "                           [4,5,6],\n",
    "                           [7,8,9]])\n",
    "split_arr = split_arrays(original_array)\n",
    "split_arr"
   ]
  },
  {
   "cell_type": "markdown",
   "metadata": {},
   "source": [
    "# 50. Write a function that inserts and then deletes elements from a given array at specified indices.\n",
    "# original_array = np.array([1, 2, 3, 4, 5])\n",
    "# indices_to_insert = [2, 4]\n",
    "# values_to_insert = [10, 11]\n",
    "# indices_to_delete = [1, 3]"
   ]
  },
  {
   "cell_type": "code",
   "execution_count": 209,
   "metadata": {},
   "outputs": [
    {
     "name": "stdout",
     "output_type": "stream",
     "text": [
      "Array_after_insert\n",
      "[ 1  2 10  3  4 11  5]\n",
      "====================\n",
      "Original Array\n",
      "[1 2 3 4 5]\n",
      "====================\n",
      "Array_after_Delete\n",
      "[1 3 5]\n",
      "====================\n",
      "Original Array\n",
      "[1 2 3 4 5]\n",
      "====================\n"
     ]
    }
   ],
   "source": [
    "# 50\n",
    "def insert_delete_into_array(original_array,indices_to_insert,values_to_incert,indices_to_delete):\n",
    "    arr_after_insert = np.insert(original_array, indices_to_insert, values_to_incert)\n",
    "    arr_after_delete = np.delete( original_array, indices_to_delete)\n",
    "    print(\"Array_after_insert\")\n",
    "    \n",
    "    print(arr_after_insert)\n",
    "    print(\"====================\")\n",
    "    print(\"Original Array\")\n",
    "    \n",
    "    print(original_array)\n",
    "    print(\"====================\")\n",
    "    print(\"Array_after_Delete\")\n",
    "   \n",
    "    print(arr_after_delete)\n",
    "    print(\"====================\")\n",
    "   \n",
    "    print(\"Original Array\")\n",
    "    \n",
    "    print(original_array)\n",
    "    print(\"====================\")\n",
    "    \n",
    "original_array = np.array([1,2,3,4,5])\n",
    "indices_to_insert =[2,4]\n",
    "values_to_incert =[10,11]\n",
    "indices_to_delete =[1,3]\n",
    "\n",
    "insert_delete_into_array(original_array,indices_to_insert,values_to_incert,indices_to_delete)"
   ]
  },
  {
   "cell_type": "markdown",
   "metadata": {},
   "source": [
    "# 51. Create a NumPy array `arr1` with random integers and another array `arr2` with integers from 1 to 10. Perform element-wise addition between `arr1` and `arr2`."
   ]
  },
  {
   "cell_type": "code",
   "execution_count": 218,
   "metadata": {},
   "outputs": [
    {
     "name": "stdout",
     "output_type": "stream",
     "text": [
      "[42 76 13 84 22 49 31 38 71 73]\n",
      "[6 6 9 4 3 1 9 3 9 1]\n"
     ]
    },
    {
     "data": {
      "text/plain": [
       "array([48, 82, 22, 88, 25, 50, 40, 41, 80, 74])"
      ]
     },
     "execution_count": 218,
     "metadata": {},
     "output_type": "execute_result"
    }
   ],
   "source": [
    "# 51\n",
    "\n",
    "arr1 = np.random.randint(100, size=10)\n",
    "arr2 = np.random.randint(1,10, size=10)\n",
    "print(arr1)\n",
    "print(arr2)\n",
    "\n",
    "result = np.add(arr1,arr2)\n",
    "result"
   ]
  },
  {
   "cell_type": "markdown",
   "metadata": {},
   "source": [
    "# 52. Generate a NumPy array `arr1` with sequential integers from 10 to 1 and another array `arr2` with integers from 1 to 10. Subtract `arr2` from `arr1` element-wise."
   ]
  },
  {
   "cell_type": "code",
   "execution_count": 222,
   "metadata": {},
   "outputs": [
    {
     "name": "stdout",
     "output_type": "stream",
     "text": [
      "[10  9  8  7  6  5  4  3  2]\n",
      "[1 2 3 4 5 6 7 8 9]\n"
     ]
    },
    {
     "data": {
      "text/plain": [
       "array([ 9,  7,  5,  3,  1, -1, -3, -5, -7])"
      ]
     },
     "execution_count": 222,
     "metadata": {},
     "output_type": "execute_result"
    }
   ],
   "source": [
    "# 52\n",
    "arr1 = np.arange(10,1,-1)\n",
    "arr2 = np.arange(1,10)\n",
    "print(arr1)\n",
    "print(arr2)\n",
    "result = np.subtract(arr1,arr2)\n",
    "result"
   ]
  },
  {
   "cell_type": "markdown",
   "metadata": {},
   "source": [
    "# 53. Create a NumPy array `arr1` with random integers and another array `arr2` with integers from 1 to 5.Perform element-wise multiplication between `arr1` and `arr2`."
   ]
  },
  {
   "cell_type": "code",
   "execution_count": 224,
   "metadata": {},
   "outputs": [
    {
     "name": "stdout",
     "output_type": "stream",
     "text": [
      "[[92 52 77 25]\n",
      " [ 1 84 63 61]\n",
      " [42 82 83 53]]\n",
      "[[4 4 1 3]\n",
      " [4 1 4 4]\n",
      " [2 1 1 2]]\n"
     ]
    },
    {
     "data": {
      "text/plain": [
       "array([[368, 208,  77,  75],\n",
       "       [  4,  84, 252, 244],\n",
       "       [ 84,  82,  83, 106]])"
      ]
     },
     "execution_count": 224,
     "metadata": {},
     "output_type": "execute_result"
    }
   ],
   "source": [
    "# 53\n",
    "arr1 = np.random.randint(1,100,(3,4))\n",
    "arr2 = np.random.randint(1,5, (3,4))\n",
    "print(arr1)\n",
    "print(arr2)\n",
    "\n",
    "result = np.multiply(arr1,arr2)\n",
    "result"
   ]
  },
  {
   "cell_type": "markdown",
   "metadata": {},
   "source": [
    "# 54. Generate a NumPy array `arr1` with even integers from 2 to 10 and another array `arr2` with integers from 1 to 5. Perform element-wise division of `arr1` by `arr2`."
   ]
  },
  {
   "cell_type": "code",
   "execution_count": 225,
   "metadata": {},
   "outputs": [
    {
     "name": "stdout",
     "output_type": "stream",
     "text": [
      "[ 2  4  6  8 10]\n",
      "[1 2 3 4 5]\n"
     ]
    },
    {
     "data": {
      "text/plain": [
       "array([2., 2., 2., 2., 2.])"
      ]
     },
     "execution_count": 225,
     "metadata": {},
     "output_type": "execute_result"
    }
   ],
   "source": [
    "# 54\n",
    "\n",
    "\n",
    "arr1 = np.arange(2,12,2)\n",
    "arr2 =  np.arange(1,6)\n",
    "print(arr1)\n",
    "print(arr2)\n",
    "\n",
    "result = np.divide(arr1,arr2)\n",
    "result\n"
   ]
  },
  {
   "cell_type": "markdown",
   "metadata": {},
   "source": [
    "# 55. Create a NumPy array `arr1` with integers from 1 to 5 and another array `arr2` with the same numbers reversed. Calculate the exponentiation of `arr1` raised to the power of `arr2` element-wise.\n"
   ]
  },
  {
   "cell_type": "code",
   "execution_count": 238,
   "metadata": {},
   "outputs": [
    {
     "name": "stdout",
     "output_type": "stream",
     "text": [
      "[1 2 3 4 5]\n",
      "[5 4 3 2 1]\n"
     ]
    },
    {
     "data": {
      "text/plain": [
       "array([2.71828183e+00, 5.45981500e+01, 8.10308393e+03, 8.88611052e+06,\n",
       "       7.20048993e+10])"
      ]
     },
     "execution_count": 238,
     "metadata": {},
     "output_type": "execute_result"
    }
   ],
   "source": [
    "# 55\n",
    "\n",
    "arr1 =  np.arange(1,6)\n",
    "arr2 = arr1[::-1]\n",
    "print(arr1)\n",
    "print(arr2)\n",
    "\n",
    "result = np.exp(arr1**arr2)\n",
    "result"
   ]
  },
  {
   "cell_type": "markdown",
   "metadata": {},
   "source": [
    "# 56. Write a function that counts the occurrences of a specific substring within a NumPy array of strings.\n",
    "# arr = np.array(['hello', 'world', 'hello', 'numpy', 'hello'])"
   ]
  },
  {
   "cell_type": "code",
   "execution_count": 245,
   "metadata": {},
   "outputs": [
    {
     "name": "stdout",
     "output_type": "stream",
     "text": [
      "{'hello': 3, 'numpy': 1, 'world': 2}\n"
     ]
    }
   ],
   "source": [
    "# 56 \n",
    "def occurrence_of_substring_within_numpy_array_string(arr):\n",
    "    unique, counts = np.unique(arr, return_counts=True)\n",
    "    print(dict(zip(unique, counts)))\n",
    "\n",
    "# calling the funcion below\n",
    "arr = np.array(['hello','world','hello','numpy','hello','world'])\n",
    "occurrence_of_substring_within_numpy_array_string(arr)\n"
   ]
  },
  {
   "cell_type": "markdown",
   "metadata": {},
   "source": [
    "# 57. Write a function that extracts uppercase characters from a NumPy array of strings.\n",
    "# arr = np.array(['Hello', 'World', 'OpenAI', 'GPT'])"
   ]
  },
  {
   "cell_type": "code",
   "execution_count": 249,
   "metadata": {},
   "outputs": [
    {
     "name": "stdout",
     "output_type": "stream",
     "text": [
      "['W']\n",
      "['G', 'P', 'T']\n",
      "['N']\n",
      "['O', 'A', 'I']\n"
     ]
    }
   ],
   "source": [
    "# 57\n",
    "\n",
    "def extract_uppercase_character_from_numpy_array_string(arr):\n",
    "    for element in arr:\n",
    "        res=[]\n",
    "        for char in element:\n",
    "            if ord(char) in range(65,91): # here checking all the chararcter of each word belong\n",
    "                 res.append(char)         #to corresponding upper case ASCII value \n",
    "               \n",
    "        print(res)\n",
    "\n",
    "# calling the funcion below\n",
    "arr = np.array(['World','GPT','Numpy','OpenAI'])\n",
    "extract_uppercase_character_from_numpy_array_string(arr)"
   ]
  },
  {
   "cell_type": "markdown",
   "metadata": {},
   "source": [
    "# 58. Write a function that replaces occurrences of a substring in a NumPy array of strings with a new string.\n",
    "# arr = np.array(['apple', 'banana', 'grape', 'pineapple'])"
   ]
  },
  {
   "cell_type": "code",
   "execution_count": 250,
   "metadata": {},
   "outputs": [],
   "source": [
    "# 58\n",
    "\n"
   ]
  },
  {
   "cell_type": "markdown",
   "metadata": {},
   "source": [
    "# 59. Write a function that concatenates strings in a NumPy array element-wise.\n",
    "# arr1 = np.array(['Hello', 'World'])\n",
    "# arr2 = np.array(['Open', 'AI'])"
   ]
  },
  {
   "cell_type": "code",
   "execution_count": 257,
   "metadata": {},
   "outputs": [
    {
     "name": "stdout",
     "output_type": "stream",
     "text": [
      "['HelloOpen' 'WorldAI']\n"
     ]
    }
   ],
   "source": [
    "# 59\n",
    "\n",
    "def concat_two_numpy_array_string_element_wise(arr1,arr2):\n",
    "    try:\n",
    "        result =np.char.add(arr1,arr2)\n",
    "        print(result)\n",
    "    except ValueError as e:\n",
    "        print(f\"ValueError:{e}\")\n",
    "    \n",
    "        \n",
    "arr1 = np.array(['Hello','World'])\n",
    "arr2= np.array(['Open','AI'])\n",
    "concat_two_numpy_array_string_element_wise(arr1,arr2)\n"
   ]
  },
  {
   "cell_type": "markdown",
   "metadata": {},
   "source": [
    "# 60. Write a function that finds the length of the longest string in a NumPy array.\n",
    "# arr = np.array(['apple', 'banana', 'grape', 'pineapple'])"
   ]
  },
  {
   "cell_type": "code",
   "execution_count": 273,
   "metadata": {},
   "outputs": [
    {
     "name": "stdout",
     "output_type": "stream",
     "text": [
      "pineapple 9\n"
     ]
    }
   ],
   "source": [
    "# 60\n",
    "\n",
    "arr = np.array(['apple', 'banana', 'grape','pineapple'])\n",
    "print((max(arr, key=len)),len(max(arr, key=len)))\n"
   ]
  },
  {
   "cell_type": "markdown",
   "metadata": {},
   "source": [
    "# 61. Create a dataset of 100 random integers between 1 and 1000. Compute the mean, median, variance, and standard deviation of the dataset using NumPy's functions."
   ]
  },
  {
   "cell_type": "code",
   "execution_count": 285,
   "metadata": {},
   "outputs": [
    {
     "name": "stdout",
     "output_type": "stream",
     "text": [
      "Original Array [867 762 357 491 581 318 407 947 694 916  18 579  47 990 902 275 474 398\n",
      " 903 841 857 716 854 268 575 407 570 610 979 110 961 741 746 440   5 167\n",
      " 427 819 259 475 798 153  70 536 372 725  51  43 133 606 789 966 835 554\n",
      " 295 162 758 737 323 209 511 872 771 572 688 354 510 348 931 222 208 638\n",
      " 870 510 444 878 368 340 176 401 290 121 729 629 701 613 827 512 694 271\n",
      " 375 640 766 999 103 861 169 887 708 822]\n",
      "============================\n",
      "MEAN :  541.97\n",
      "MEDIAN :  571.0\n",
      "VARIANCE :  78060.3491\n",
      "STANDARD DEVIATION :  279.3928222055821\n"
     ]
    }
   ],
   "source": [
    "# 61\n",
    "\n",
    "arr = np.random.randint(1,1000, size=100)\n",
    "print(\"Original Array\",arr)\n",
    "print(\"============================\")\n",
    "\n",
    "print(\"MEAN : \",np.mean(arr))\n",
    "print(\"MEDIAN : \",np.median(arr))\n",
    "print(\"VARIANCE : \",np.var(arr))\n",
    "print(\"STANDARD DEVIATION : \",np.std(arr))"
   ]
  },
  {
   "cell_type": "markdown",
   "metadata": {},
   "source": [
    "# 62. Generate an array of 50 random numbers between 1 and 100. Find the 25th and 75th percentiles of the dataset."
   ]
  },
  {
   "cell_type": "code",
   "execution_count": null,
   "metadata": {},
   "outputs": [],
   "source": [
    "# 62\n",
    "import pandas as pd\n",
    "arr = np.random.randint(1,100, size=50)\n",
    "print(\"Original Array\",arr)\n",
    "print(\"============================\")\n",
    "\n",
    "df = pd.DataFtame(arr)\n",
    "percentile_25 = (df[0].quantile(0.25))\n",
    "percentile_75 = (df[0].quantile(0.75))\n",
    "\n",
    "print(\"25 percentile of data set\", percentile_25)\n",
    "print(\"75 percentile of data set\", percentile_75)"
   ]
  },
  {
   "cell_type": "markdown",
   "metadata": {},
   "source": [
    "# 63. Create two arrays representing two sets of variables. Compute the correlation coefficient between these arrays using NumPy's `corrcoef` function."
   ]
  },
  {
   "cell_type": "code",
   "execution_count": 288,
   "metadata": {},
   "outputs": [
    {
     "name": "stdout",
     "output_type": "stream",
     "text": [
      "Original Array 1 [75 34 45 69 55 73 60 73 79 18 79  7 11 74 37 52 74 73 27 17]\n",
      "============================\n",
      "Original Array 2 [73 40 57 28  8 84 21 96 69 80 87 84 65 67 74 40 71 39 48 32]\n",
      "============================\n"
     ]
    },
    {
     "data": {
      "text/plain": [
       "array([[1.        , 0.08037266],\n",
       "       [0.08037266, 1.        ]])"
      ]
     },
     "execution_count": 288,
     "metadata": {},
     "output_type": "execute_result"
    }
   ],
   "source": [
    "# 63\n",
    "\n",
    "arr1 = np.random.randint(1,100, size=20)\n",
    "arr2 = np.random.randint(1,100, size=20)\n",
    "print(\"Original Array 1\",arr1)\n",
    "print(\"============================\")\n",
    "print(\"Original Array 2\",arr2)\n",
    "print(\"============================\")\n",
    "correlation_coeficient = np.corrcoef(arr1,arr2)\n",
    "correlation_coeficient"
   ]
  },
  {
   "cell_type": "markdown",
   "metadata": {},
   "source": [
    "# 64. Create two matrices and perform matrix multiplication using NumPy's `dot` function."
   ]
  },
  {
   "cell_type": "code",
   "execution_count": 297,
   "metadata": {},
   "outputs": [
    {
     "name": "stdout",
     "output_type": "stream",
     "text": [
      "Matrix 1 :  \n",
      "[[8 4 1]\n",
      " [9 3 3]\n",
      " [5 2 8]]\n",
      "Matrix 2 :  \n",
      "[[7 2 3]\n",
      " [6 5 3]\n",
      " [2 2 5]]\n",
      "Matrix Dot Multiplication: \n",
      "[[82 38 41]\n",
      " [87 39 51]\n",
      " [63 36 61]]\n"
     ]
    }
   ],
   "source": [
    "# 64 \n",
    "\n",
    "arr1 = np.random.randint(1,10, (3,3))\n",
    "arr2 = np.random.randint(1,10, (3,3))\n",
    "\n",
    "mat1 = np.matrix(arr1)\n",
    "mat2 = np.matrix(arr2)\n",
    "\n",
    "print(\"Matrix 1 :  \")\n",
    "print(mat1)\n",
    "print(\"Matrix 2 :  \")\n",
    "print(mat2)\n",
    "\n",
    "dot_multiply = np.dot(mat1,mat2)\n",
    "print(\"Matrix Dot Multiplication: \")\n",
    "print(dot_multiply)\n"
   ]
  },
  {
   "cell_type": "markdown",
   "metadata": {},
   "source": [
    "# 65. Create an array of 50 integers between 10 and 1000. Calculate the 10th, 50th (median), and 90th percentiles along with the first and third quartiles."
   ]
  },
  {
   "cell_type": "code",
   "execution_count": null,
   "metadata": {},
   "outputs": [],
   "source": [
    "# 65\n",
    "\n",
    "import pandas as pd\n",
    "arr = np.random.randint(10,1000, size=50)\n",
    "print(\"Original Array\",arr)\n",
    "print(\"============================\")\n",
    "\n",
    "df = pd.DataFrame(arr)\n",
    "percentile_10 = (df[0].quantile(0.10))\n",
    "percentile_25 = (df[0].quantile(0.25))\n",
    "percentile_50 = (df[0].quantile(0.50))\n",
    "percentile_75 = (df[0].quantile(0.75))\n",
    "percentile_90 = (df[0].quantile(0.90))\n",
    "\n",
    "\n",
    "print(\"10 percentile of data set : \", percentile_10)\n",
    "print(\"25 percentile of data set : \", percentile_25)\n",
    "print(\"50 percentile of data set That is Median : \", percentile_50)\n",
    "print(\"75 percentile of data set : \", percentile_75)\n",
    "print(\"90 percentile of data set : \", percentile_90)"
   ]
  },
  {
   "cell_type": "markdown",
   "metadata": {},
   "source": [
    "# 66. Create a NumPy array of integers and find the index of a specific element."
   ]
  },
  {
   "cell_type": "code",
   "execution_count": 298,
   "metadata": {},
   "outputs": [
    {
     "name": "stdout",
     "output_type": "stream",
     "text": [
      "Original Array [14  2 13  5 10 17  7  5  3 15]\n",
      "============================\n"
     ]
    }
   ],
   "source": [
    "# 66\n",
    "\n",
    "arr = np.random.randint(1,20, size=10)\n",
    "print(\"Original Array\",arr)\n",
    "print(\"============================\")\n",
    "item = int(input(\"enter a number between 1 to 20 : \"))\n",
    "if item in arr:\n",
    "     if len(np.where(arr==item)[0]) >1:\n",
    "        print(\"Index of \"+str(item)+\" is \"+str(np.where(arr==item)[0]))\n",
    "    else:\n",
    "        print(\"Index of \"+str(item)+\" is \"+str(np.where(arr==item)[0][0]))\n",
    " \n",
    "else:\n",
    "    print(str(item)+\" is not present in array\")"
   ]
  },
  {
   "cell_type": "markdown",
   "metadata": {},
   "source": [
    "# 67. Generate a random NumPy array and sort it in ascending order."
   ]
  },
  {
   "cell_type": "code",
   "execution_count": 304,
   "metadata": {},
   "outputs": [
    {
     "name": "stdout",
     "output_type": "stream",
     "text": [
      "Original Array [18 15 12  8 17  3  8  9 12 10]\n",
      "============================\n",
      "sorted array [ 3  8  8  9 10 12 12 15 17 18]\n"
     ]
    }
   ],
   "source": [
    "# 67\n",
    "\n",
    "arr = np.random.randint(1,20, size=10)\n",
    "print(\"Original Array\",arr)\n",
    "print(\"============================\")\n",
    "\n",
    "sorted_array = np.sort(arr)\n",
    "print(\"sorted array\",sorted_array)\n"
   ]
  },
  {
   "cell_type": "markdown",
   "metadata": {},
   "source": [
    "# 68. Filter elements >20  in the given NumPy array.\n",
    "# arr = np.array([12, 25, 6, 42, 8, 30])"
   ]
  },
  {
   "cell_type": "code",
   "execution_count": 5,
   "metadata": {},
   "outputs": [
    {
     "name": "stdout",
     "output_type": "stream",
     "text": [
      "Original Array [12 25  6 42  8 30]\n",
      "============================\n",
      "Array elements which are greater than 20 [25 42 30]\n"
     ]
    }
   ],
   "source": [
    "# 68 \n",
    "\n",
    "arr = np.array([12, 25, 6, 42, 8, 30])\n",
    "print(\"Original Array\",arr)\n",
    "print(\"============================\")\n",
    "\n",
    "new_arr = np.where(arr>20)\n",
    "print(\"Array elements which are greater than 20\",arr[new_arr])\n"
   ]
  },
  {
   "cell_type": "markdown",
   "metadata": {},
   "source": [
    "# 69. Filter elements which are divisible by 3 from a given NumPy array\n",
    "# arr = np.array([1, 5, 8, 12, 15])"
   ]
  },
  {
   "cell_type": "code",
   "execution_count": 6,
   "metadata": {},
   "outputs": [
    {
     "name": "stdout",
     "output_type": "stream",
     "text": [
      "Original Array [ 1  5  8 12 15]\n",
      "============================\n",
      "Array elements which are divisible by 3 :  [12 15]\n"
     ]
    }
   ],
   "source": [
    "# 69\n",
    "\n",
    "arr = np.array([1, 5, 8, 12, 15])\n",
    "print(\"Original Array\",arr)\n",
    "print(\"============================\")\n",
    "\n",
    "new_arr = np.where(arr%3==0)\n",
    "print(\"Array elements which are divisible by 3 : \",arr[new_arr])"
   ]
  },
  {
   "cell_type": "markdown",
   "metadata": {},
   "source": [
    "# 70. Filter elements which are ≥ 20 and ≤ 40 from a given NumPy array.\n",
    "# arr = np.array([10, 20, 30, 40, 50])"
   ]
  },
  {
   "cell_type": "code",
   "execution_count": 317,
   "metadata": {},
   "outputs": [
    {
     "name": "stdout",
     "output_type": "stream",
     "text": [
      "Original Array [10 20 30 40 50]\n",
      "============================\n",
      "Array elements which are >=20 and <= 40  :  [20 30 40]\n"
     ]
    }
   ],
   "source": [
    "# 70\n",
    "\n",
    "arr = np.array([10,20,30,40,50])\n",
    "print(\"Original Array\",arr)\n",
    "print(\"============================\")\n",
    "\n",
    "mask1 = arr>=20\n",
    "mask2 = arr<=40\n",
    "\n",
    "result = np.logical_and(mask1,mask2)\n",
    "print(\"Array elements which are >=20 and <= 40  : \",arr[result])"
   ]
  },
  {
   "cell_type": "markdown",
   "metadata": {},
   "source": [
    "# 71. For the given NumPy array, check its byte order using the `dtype` attribute byteorder.\n",
    "# arr = np.array([1, 2, 3])  "
   ]
  },
  {
   "cell_type": "code",
   "execution_count": 328,
   "metadata": {},
   "outputs": [
    {
     "name": "stdout",
     "output_type": "stream",
     "text": [
      "=\n"
     ]
    }
   ],
   "source": [
    "# 71\n",
    "arr = np.array([1, 2, 3])  \n",
    "  \n",
    "# Check the byte order  \n",
    "print(arr.dtype.byteorder) \n"
   ]
  },
  {
   "cell_type": "markdown",
   "metadata": {},
   "source": [
    "# 72. For the given NumPy array, perform byte swapping in place using `byteswap()`\n",
    "# arr = np.array([1, 2, 3], dtype=np.int32) "
   ]
  },
  {
   "cell_type": "code",
   "execution_count": 329,
   "metadata": {},
   "outputs": [
    {
     "name": "stdout",
     "output_type": "stream",
     "text": [
      "Original array:\n",
      "[1 2 3]\n",
      "Original byte order: =\n",
      "\n",
      "Array after byteswap:\n",
      "[16777216 33554432 50331648]\n",
      "New byte order: =\n"
     ]
    }
   ],
   "source": [
    "# 72\n",
    "\n",
    "arr = np.array([1, 2, 3], dtype=np.int32) \n",
    "  \n",
    "print(\"Original array:\")  \n",
    "print(arr)  \n",
    "print(\"Original byte order:\", arr.dtype.byteorder)  \n",
    "  \n",
    "# Swap the byte order  \n",
    "swapped_arr = arr.byteswap()  \n",
    "print(\"\\nArray after byteswap:\")  \n",
    "print(swapped_arr)  \n",
    "print(\"New byte order:\", swapped_arr.dtype.byteorder)  \n",
    "\n"
   ]
  },
  {
   "cell_type": "markdown",
   "metadata": {},
   "source": [
    "# 73. For the given NumPy array, swap its byte order without modifying the original array using `newbyteorder()`.\n",
    "# arr = np.array([1, 2, 3], dtype=np.int32) "
   ]
  },
  {
   "cell_type": "code",
   "execution_count": 331,
   "metadata": {},
   "outputs": [
    {
     "name": "stdout",
     "output_type": "stream",
     "text": [
      "Original array:\n",
      "[1 2 3]\n",
      "Original byte order: =\n",
      "\n",
      "Array after newbyteorder:\n",
      "[1 2 3]\n",
      "Updated byte order Without modify original array: >\n"
     ]
    }
   ],
   "source": [
    "# 73\n",
    "arr = np.array([1, 2, 3], dtype=np.int32) \n",
    "  \n",
    "print(\"Original array:\")  \n",
    "print(arr)  \n",
    "print(\"Original byte order:\", arr.dtype.byteorder)  \n",
    "  \n",
    "# Swap the byte order  \n",
    "swapped_arr = arr.byteswap()  \n",
    "\n",
    "# aapply newbyteorder on swapped_array\n",
    "swapped_arr_new = swapped_arr.newbyteorder()    \n",
    "print(\"\\nArray after newbyteorder:\")  \n",
    "print(swapped_arr_new)  \n",
    "print(\"Updated byte order Without modify original array:\", swapped_arr_new.dtype.byteorder)  \n",
    "\n"
   ]
  },
  {
   "cell_type": "markdown",
   "metadata": {},
   "source": [
    "# 74. For the given NumPy array and swap its byte order conditionally based on system endianness using `newbyteorder()`.\n",
    "# array = np.array([1, 2, 3], dtype=np.int32) "
   ]
  },
  {
   "cell_type": "code",
   "execution_count": 7,
   "metadata": {},
   "outputs": [
    {
     "name": "stdout",
     "output_type": "stream",
     "text": [
      "Original array:\n",
      "[1 2 3]\n",
      "Current byte order is which is system endians :  =\n",
      "\n",
      "Array after swapping byte order:\n",
      "[16777216 33554432 50331648]\n",
      "Now byte order is:  >\n"
     ]
    }
   ],
   "source": [
    "# 74\n",
    "  \n",
    "array = np.array([1, 2, 3], dtype=np.int32)  \n",
    "system_endianness = np.dtype.byteorder\n",
    "print(\"Original array:\")  \n",
    "print(array)  \n",
    "print(\"Current byte order is which is system endians : \",array.dtype.byteorder)\n",
    "\n",
    "if system_endianness == '=':  # system endians\n",
    "    swapped_array = array.byteswap().newbyteorder()  \n",
    "else:  \n",
    "    swapped_array = array.newbyteorder()  \n",
    "  \n",
    "print(\"\\nArray after swapping byte order:\")  \n",
    "print(swapped_array)  \n",
    "print(\"Now byte order is: \",swapped_array.dtype.byteorder)\n"
   ]
  },
  {
   "cell_type": "markdown",
   "metadata": {},
   "source": [
    "# 75. For the given NumPy array, check if byte swapping is necessary for the current system using `dtype` attribute `byteorder`.\n",
    "# array = np.array([1, 2, 3], dtype=np.int32)"
   ]
  },
  {
   "cell_type": "code",
   "execution_count": 351,
   "metadata": {},
   "outputs": [
    {
     "name": "stdout",
     "output_type": "stream",
     "text": [
      "Original Byte Order =\n",
      "Byte swapping is not necessary (native byte order).\n"
     ]
    }
   ],
   "source": [
    "# 75\n",
    "\n",
    "array = np.array([1, 2, 3], dtype=np.int32)   \n",
    "byte_order = array.dtype.byteorder  \n",
    "\n",
    "print(\"Original Byte Order\",byte_order)\n",
    "\n",
    "# Check if byte swapping is necessary  \n",
    "if byte_order in ('=', '|'):  \n",
    "    print(\"Byte swapping is not necessary (native byte order).\")  \n",
    "else:  \n",
    "    print(\"Byte swapping is necessary.\")  \n"
   ]
  },
  {
   "cell_type": "markdown",
   "metadata": {},
   "source": [
    "# 76. Create a NumPy array `arr1` with values from 1 to 10. Create a copy of `arr1` named `copy_arr` and modify an element in `copy_arr`. Check if modifying `copy_arr` affects `arr1`."
   ]
  },
  {
   "cell_type": "code",
   "execution_count": 361,
   "metadata": {},
   "outputs": [
    {
     "name": "stdout",
     "output_type": "stream",
     "text": [
      "copy_arr :  [ 1 50  3  4  5  6  7  8  9 10]\n",
      "\n",
      "Original array arr1 :  [ 1  2  3  4  5  6  7  8  9 10]\n"
     ]
    }
   ],
   "source": [
    "# 76\n",
    "\n",
    "arr1 = np.arange(1,11)\n",
    "copy_arr = np.copy(arr1)\n",
    "# modify in copy_arr\n",
    "copy_arr[1] = 50\n",
    "print(\"copy_arr : \", copy_arr)\n",
    "print(\"\\nOriginal array arr1 : \",arr1)"
   ]
  },
  {
   "cell_type": "markdown",
   "metadata": {},
   "source": [
    "# 77. Create a 2D NumPy array `matrix` of shape (3, 3) with random integers. Extract a slice `view_slice` from the matrix. Modify an element in `view_slice` and observe if it changes the original `matrix`."
   ]
  },
  {
   "cell_type": "code",
   "execution_count": 369,
   "metadata": {},
   "outputs": [
    {
     "name": "stdout",
     "output_type": "stream",
     "text": [
      "Original Array\n",
      " [[10  9 11]\n",
      " [14 16 17]\n",
      " [16 14  1]]\n",
      "Sliced Array before modify\n",
      " [[10  9]\n",
      " [14 16]]\n",
      "Sliced Array after modify\n",
      " [[1000    9]\n",
      " [  14   16]]\n",
      "Original Array after modify in sliced array\n",
      " [[1000    9   11]\n",
      " [  14   16   17]\n",
      " [  16   14    1]]\n"
     ]
    }
   ],
   "source": [
    "# 77\n",
    "\n",
    "matrix = np.random.randint(1,20,(3,3))\n",
    "print(\"Original Array\\n\",matrix)\n",
    "view_slice = matrix[0:2,0:2]\n",
    "print(\"Sliced Array before modify\\n\",view_slice)\n",
    "view_slice[0][0]=1000\n",
    "print(\"Sliced Array after modify\\n\",view_slice)\n",
    "print(\"Original Array after modify in sliced array\\n\",matrix)"
   ]
  },
  {
   "cell_type": "markdown",
   "metadata": {},
   "source": [
    "# 78. Create a NumPy array `array_a` of shape (4, 3) with sequential integers from 1 to 12. Extract a slice `view_b` from `array_a` and broadcast the addition of 5 to view_b. Check if it alters the original `array_a`."
   ]
  },
  {
   "cell_type": "code",
   "execution_count": 386,
   "metadata": {},
   "outputs": [
    {
     "name": "stdout",
     "output_type": "stream",
     "text": [
      "Original Array\n",
      "\n",
      " [[ 1  2  3]\n",
      " [ 4  5  6]\n",
      " [ 7  8  9]\n",
      " [10 11 12]]\n",
      "\n",
      "Sliced Array\n",
      "\n",
      " [[1 2]\n",
      " [4 5]]\n",
      "\n",
      "Add 5 in sliced array\n",
      "\n",
      " [[ 6  7]\n",
      " [ 9 10]]\n",
      "\n",
      "Original Array again after add 5 in sliced array \n",
      " [[ 1  2  3]\n",
      " [ 4  5  6]\n",
      " [ 7  8  9]\n",
      " [10 11 12]]\n"
     ]
    }
   ],
   "source": [
    "# 78\n",
    "\n",
    "arr_a = np.arange(1,13)\n",
    "arr_a = arr_a.reshape(4,3)\n",
    "print(\"Original Array\\n\\n\",arr_a)\n",
    "view_b = arr_a[0:2,0:2]\n",
    "print(\"\\nSliced Array\\n\\n\",view_b)\n",
    "view_b = view_b+5\n",
    "print(\"\\nAdd 5 in sliced array\\n\\n\",view_b)\n",
    "print(\"\\nOriginal Array again after add 5 in sliced array \\n\",arr_a)"
   ]
  },
  {
   "cell_type": "markdown",
   "metadata": {},
   "source": [
    "# 79. Create a NumPy array `orig_array` of shape (2, 4) with values from 1 to 8. Create a reshaped view `reshaped_view` of shape (4, 2) from orig_array. Modify an element in `reshaped_view` and check if it reflects changes in the original `orig_array`."
   ]
  },
  {
   "cell_type": "code",
   "execution_count": 394,
   "metadata": {},
   "outputs": [
    {
     "name": "stdout",
     "output_type": "stream",
     "text": [
      "Original Array\n",
      "\n",
      " [[1 2 3 4]\n",
      " [5 6 7 8]]\n",
      "\n",
      "Reshaped View before modify in reshaped array\n",
      " [[1 2]\n",
      " [3 4]\n",
      " [5 6]\n",
      " [7 8]]\n",
      "\n",
      "Reshaped View after modify in reshaped array\n",
      " [[12345     2]\n",
      " [    3     4]\n",
      " [    5     6]\n",
      " [    7     8]]\n",
      "\n",
      "Original array after modify in reshaped array\n",
      " [[12345     2]\n",
      " [    3     4]\n",
      " [    5     6]\n",
      " [    7     8]]\n"
     ]
    }
   ],
   "source": [
    "# 79\n",
    "\n",
    "orig_array = np.arange(1,9)\n",
    "orig_array = orig_array.reshape(2,4)\n",
    "print(\"Original Array\\n\\n\",orig_array)\n",
    "\n",
    "# creating a reshaped view\n",
    "reshaped_view = orig_array.reshape(4,2)\n",
    "print(\"\\nReshaped View before modify in reshaped array\\n\",reshaped_view)\n",
    "reshaped_view[0][0]=12345\n",
    "print(\"\\nReshaped View after modify in reshaped array\\n\",reshaped_view)\n",
    "print(\"\\nOriginal array after modify in reshaped array\\n\",reshaped_view)\n"
   ]
  },
  {
   "cell_type": "markdown",
   "metadata": {},
   "source": [
    "# 80. Create a NumPy array `data` of shape (3, 4) with random integers. Extract a copy `data_copy` of elements greater than 5. Modify an element in `data_copy` and verify if it affects the original `data`."
   ]
  },
  {
   "cell_type": "code",
   "execution_count": 407,
   "metadata": {},
   "outputs": [
    {
     "name": "stdout",
     "output_type": "stream",
     "text": [
      "Original Array\n",
      " [[ 7 48 20 24]\n",
      " [38 38 16 16]\n",
      " [48 46 18 39]]\n",
      "Extracted Array greater than 5\n",
      " [[ 7 48 20 24]\n",
      " [38 38 16 16]\n",
      " [48 46 18 39]]\n",
      "After modify in data_copy\n",
      " [[1000   48   20   24]\n",
      " [  38   38   16   16]\n",
      " [  48   46   18   39]]\n",
      "After modify original array\n",
      " [[ 7 48 20 24]\n",
      " [38 38 16 16]\n",
      " [48 46 18 39]]\n"
     ]
    }
   ],
   "source": [
    "# 80\n",
    "\n",
    "data = np.random.randint(1,50,(3,4))\n",
    "print(\"Original Array\\n\",data)\n",
    "\n",
    "data_copy_mask = data>5\n",
    "data_copy = data[data_copy_mask]\n",
    "data_copy = data_copy.reshape(3,4)\n",
    "print(\"Extracted Array greater than 5\\n\",data_copy)\n",
    "data_copy[0][0]=1000\n",
    "print(\"After modify in data_copy\\n\",data_copy)\n",
    "print(\"After modify original array\\n\",data)"
   ]
  },
  {
   "cell_type": "markdown",
   "metadata": {},
   "source": [
    "# 81. Create two matrices A and B of identical shape containing integers and perform addition and subtraction operations between them."
   ]
  },
  {
   "cell_type": "code",
   "execution_count": 10,
   "metadata": {},
   "outputs": [
    {
     "name": "stdout",
     "output_type": "stream",
     "text": [
      "Matrix 1\n",
      " [[35  9 39 16]\n",
      " [30 10 39 46]\n",
      " [21 37 26 48]]\n",
      "Matrix 2\n",
      " [[ 4 42 44 46]\n",
      " [17 42 19 40]\n",
      " [33 47 20  8]]\n",
      "Addition of these two matrix\n",
      " [[39 51 83 62]\n",
      " [47 52 58 86]\n",
      " [54 84 46 56]]\n",
      "Subtraction of these two matrix\n",
      " [[ 31 -33  -5 -30]\n",
      " [ 13 -32  20   6]\n",
      " [-12 -10   6  40]]\n"
     ]
    }
   ],
   "source": [
    "# 81\n",
    "\n",
    "arr1 = np.random.randint(1,50,(3,4))\n",
    "arr2 = np.random.randint(1,50,(3,4))\n",
    "\n",
    "A = np.matrix(arr1)\n",
    "B = np.matrix(arr2)\n",
    "print(\"Matrix 1\\n\",A)\n",
    "print(\"Matrix 2\\n\",B)\n",
    "add = A + B\n",
    "sub = A - B\n",
    "\n",
    "print(\"Addition of these two matrix\\n\",add)\n",
    "print(\"Subtraction of these two matrix\\n\",sub)"
   ]
  },
  {
   "cell_type": "markdown",
   "metadata": {},
   "source": [
    "# 82. Generate two matrices `C` (3x2) and `D` (2x4) and perform matrix multiplication"
   ]
  },
  {
   "cell_type": "code",
   "execution_count": 11,
   "metadata": {},
   "outputs": [
    {
     "name": "stdout",
     "output_type": "stream",
     "text": [
      "Matrix 1\n",
      " [[ 3 16]\n",
      " [ 2 13]\n",
      " [16 14]]\n",
      "Matrix 2\n",
      " [[ 5  7 14  4]\n",
      " [ 8 13  3 14]]\n",
      "Subtraction of these two matrix\n",
      " [[143 229  90 236]\n",
      " [114 183  67 190]\n",
      " [192 294 266 260]]\n"
     ]
    }
   ],
   "source": [
    "# 82\n",
    "\n",
    "arr1 = np.random.randint(1,20,(3,2))\n",
    "arr2 = np.random.randint(1,20,(2,4))\n",
    "\n",
    "C = np.matrix(arr1)\n",
    "D = np.matrix(arr2)\n",
    "print(\"Matrix 1\\n\",C)\n",
    "print(\"Matrix 2\\n\",D)\n",
    "\n",
    "multiply = C @ D\n",
    "print(\"Subtraction of these two matrix\\n\",multiply)"
   ]
  },
  {
   "cell_type": "markdown",
   "metadata": {},
   "source": [
    "# 83. Create a matrix `E` and find its transpose."
   ]
  },
  {
   "cell_type": "code",
   "execution_count": 13,
   "metadata": {},
   "outputs": [
    {
     "name": "stdout",
     "output_type": "stream",
     "text": [
      "Matrix \n",
      " [[ 2  2]\n",
      " [ 8 14]\n",
      " [14  1]]\n",
      "Transpose of matrix\n",
      " [[ 2  8 14]\n",
      " [ 2 14  1]]\n"
     ]
    }
   ],
   "source": [
    "# 83\n",
    "\n",
    "arr1 = np.random.randint(1,20,(3,2))\n",
    "E = np.matrix(arr1)\n",
    "print(\"Matrix \\n\",E)\n",
    "transpose = E.T\n",
    "print(\"Transpose of matrix\\n\",transpose)"
   ]
  },
  {
   "cell_type": "markdown",
   "metadata": {},
   "source": [
    "# 84. Generate a square matrix `F` and compute its determinant."
   ]
  },
  {
   "cell_type": "code",
   "execution_count": 14,
   "metadata": {},
   "outputs": [
    {
     "name": "stdout",
     "output_type": "stream",
     "text": [
      "Matrix \n",
      " [[ 4  4 12]\n",
      " [ 8 12 16]\n",
      " [ 9  9 14]]\n",
      "Determinant of matrix\n",
      " -207.99999999999997\n"
     ]
    }
   ],
   "source": [
    "# 84\n",
    "\n",
    "arr1 = np.random.randint(1,20,(3,3))\n",
    "F = np.matrix(arr1)\n",
    "print(\"Matrix \\n\",F)\n",
    "determinant = np.linalg.det(F)\n",
    "print(\"Determinant of matrix\\n\",determinant)"
   ]
  },
  {
   "cell_type": "markdown",
   "metadata": {},
   "source": [
    "# 85. Create a square matrix `G` and find its inverse."
   ]
  },
  {
   "cell_type": "code",
   "execution_count": 15,
   "metadata": {},
   "outputs": [
    {
     "name": "stdout",
     "output_type": "stream",
     "text": [
      "Matrix\n",
      " [[37 37 49]\n",
      " [35 39 39]\n",
      " [35 30 42]]\n",
      "Inverse of matrix\n",
      " [[-0.23353293  0.04191617  0.23353293]\n",
      " [ 0.05239521  0.08033932 -0.13572854]\n",
      " [ 0.15718563 -0.09231537 -0.0738523 ]]\n"
     ]
    }
   ],
   "source": [
    "# 85\n",
    "\n",
    "arr1 = np.random.randint(30,50,(3,3))\n",
    "G = np.matrix(arr1)\n",
    "print(\"Matrix\\n\",G)\n",
    "inverse = np.linalg.inv(G)\n",
    "print(\"Inverse of matrix\\n\",inverse)"
   ]
  },
  {
   "cell_type": "code",
   "execution_count": null,
   "metadata": {},
   "outputs": [],
   "source": []
  }
 ],
 "metadata": {
  "kernelspec": {
   "display_name": "Python 3 (ipykernel)",
   "language": "python",
   "name": "python3"
  },
  "language_info": {
   "codemirror_mode": {
    "name": "ipython",
    "version": 3
   },
   "file_extension": ".py",
   "mimetype": "text/x-python",
   "name": "python",
   "nbconvert_exporter": "python",
   "pygments_lexer": "ipython3",
   "version": "3.10.8"
  }
 },
 "nbformat": 4,
 "nbformat_minor": 4
}
